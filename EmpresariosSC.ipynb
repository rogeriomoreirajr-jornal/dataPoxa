{
  "nbformat": 4,
  "nbformat_minor": 0,
  "metadata": {
    "colab": {
      "name": "EmpresariosSC.ipynb",
      "version": "0.3.2",
      "provenance": [],
      "collapsed_sections": [],
      "include_colab_link": true
    },
    "kernelspec": {
      "name": "python3",
      "display_name": "Python 3"
    }
  },
  "cells": [
    {
      "cell_type": "markdown",
      "metadata": {
        "id": "view-in-github",
        "colab_type": "text"
      },
      "source": [
        "<a href=\"https://colab.research.google.com/github/rogeriomoreirajr-jornal/dataPoxa/blob/master/EmpresariosSC.ipynb\" target=\"_parent\"><img src=\"https://colab.research.google.com/assets/colab-badge.svg\" alt=\"Open In Colab\"/></a>"
      ]
    },
    {
      "cell_type": "markdown",
      "metadata": {
        "id": "efaQ8znrNAqN",
        "colab_type": "text"
      },
      "source": [
        "# Quem são os empresários dos jogadores dos grandes clubes catarinenses?\n",
        "- Pegar os códigos dos clubes, e montar um dicionário\n",
        "- Montar uma tabela com: (nome, empresario, equipe, posição, data de nascimento, na equipe desde, **outros dados**)\n"
      ]
    },
    {
      "cell_type": "code",
      "metadata": {
        "id": "REm2PBAJvEQd",
        "colab_type": "code",
        "colab": {}
      },
      "source": [
        "import pandas as pd\n",
        "import numpy as np\n",
        "from bs4 import BeautifulSoup\n",
        "import requests\n",
        "import matplotlib.pyplot as plt\n",
        "import re\n",
        "from time import sleep\n",
        "import unicodedata\n",
        "from IPython.display import display, Markdown\n",
        "\n",
        "def remove_accents(input_str):\n",
        "    nfkd_form = unicodedata.normalize('NFKD', input_str)\n",
        "    only_ascii = nfkd_form.encode('ASCII', 'ignore')\n",
        "    return only_ascii.lower().decode('utf8')\n",
        "\n",
        "pd.set_option('display.max_colwidth', -1)\n",
        "\n",
        "s = requests.Session()\n",
        "\n",
        "def clip(df, **kwargs):\n",
        "\treturn df.to_clipboard(float_format=CommaFloatFormatter(), sep='\\t', **kwargs)\n",
        "\n",
        "class CommaFloatFormatter:\n",
        "\tdef __mod__(self, x):\n",
        "\t\treturn str(x).replace('.',',')\n",
        "\n",
        "def make_soup(url):\n",
        "    html = s.get(url, headers={'User-Agent': 'Mozilla/5.0 (Macintosh; Intel Mac OS X 10_10_0) AppleWebKit/537.36 (KHTML, like Gecko) Chrome/38.0.2125.111 Safari/537.36'})\n",
        "    soup = BeautifulSoup(html.content, \"html5lib\")\n",
        "    return soup\n",
        "\n",
        "def get_data(soup, string):\n",
        "    try:\n",
        "        str_ = soup.find('th', text=string).next_sibling.next_sibling.text\n",
        "        str_ = re.search('\\n? *(.+[^ ]) *\\t*', str_).group(1)\n",
        "        return str_.replace('\\xa0\\xa0','')\n",
        "\n",
        "    except:\n",
        "        return None\n",
        "\n",
        "def get_jogador(link):\n",
        "    soup_ = make_soup(base+link)\n",
        "\n",
        "    id2_ = link.split('/')[-1]\n",
        "\n",
        "    nome = get_data(soup_, 'Nome completo:')\n",
        "    posi = get_data(soup_, 'Posição:')\n",
        "    data = get_data(soup_, 'Data de nascimento:')\n",
        "    dataEquipe = get_data(soup_, 'Na equipa desde:')\n",
        "    empresario = get_data(soup_, 'Empresário:')\n",
        "\n",
        "    try:\n",
        "      outros_ = soup_.find('span','headerueberschrift').parent.parent\n",
        "      outros_ = outros_.find('div','content').text\n",
        "      outros =  re.search('[ \\n\\t]+(.+[^ \\n])[ \\n\\t]+', outros_).group(1)\n",
        "\n",
        "    except: outros = None\n",
        "      \n",
        "    return({'nome': nome,\n",
        "            'posi': posi,\n",
        "            'data': data, \n",
        "            'dataEquipe': dataEquipe, \n",
        "            'empresario': empresario, \n",
        "            'outros': outros})\n",
        "\n",
        "\n",
        "base = 'https://www.transfermarkt.pt'"
      ],
      "execution_count": 0,
      "outputs": []
    },
    {
      "cell_type": "code",
      "metadata": {
        "id": "W0RaC3kdTjS2",
        "colab_type": "code",
        "colab": {}
      },
      "source": [
        "times = {'Avaí':2035,\n",
        "        'Figueirense':4064,\n",
        "        'Chapecoense':17776,\n",
        "        'Criciúma':7178,\n",
        "        'Joinville':3330}\n",
        "\n",
        "urlTime = 'https://www.transfermarkt.pt/-/startseite/verein/{}'.format\n",
        "\n",
        "l_ = []\n",
        "\n",
        "for time in times:\n",
        "  print(time)\n",
        "  soupTime = make_soup(urlTime(times[time]))\n",
        "  lJogadores = {el['href'] for el in soupTime.find('table','items')\\\n",
        "                .findAll('a', 'spielprofil_tooltip')}\n",
        "  \n",
        "  for jogador in lJogadores:\n",
        "    print(jogador)\n",
        "    l_.append(get_jogador(jogador))"
      ],
      "execution_count": 0,
      "outputs": []
    },
    {
      "cell_type": "code",
      "metadata": {
        "id": "xNEtHv0ya9fN",
        "colab_type": "code",
        "outputId": "9beca9a5-7da2-4171-eb98-0aba91e04238",
        "colab": {
          "base_uri": "https://localhost:8080/",
          "height": 1000
        }
      },
      "source": [
        "df = pd.DataFrame(l_)\n",
        "\n",
        "s = df.empresario.value_counts()\n",
        "\n",
        "for empresario in s[s>1].index:\n",
        "  display(Markdown('\\n'*3+'### '+empresario))\n",
        "  display(df[df.empresario==empresario])"
      ],
      "execution_count": 37,
      "outputs": [
        {
          "output_type": "display_data",
          "data": {
            "text/markdown": "\n\n\n### Marcio Bittencourt Sports",
            "text/plain": [
              "<IPython.core.display.Markdown object>"
            ]
          },
          "metadata": {
            "tags": []
          }
        },
        {
          "output_type": "display_data",
          "data": {
            "text/html": [
              "<div>\n",
              "<style scoped>\n",
              "    .dataframe tbody tr th:only-of-type {\n",
              "        vertical-align: middle;\n",
              "    }\n",
              "\n",
              "    .dataframe tbody tr th {\n",
              "        vertical-align: top;\n",
              "    }\n",
              "\n",
              "    .dataframe thead th {\n",
              "        text-align: right;\n",
              "    }\n",
              "</style>\n",
              "<table border=\"1\" class=\"dataframe\">\n",
              "  <thead>\n",
              "    <tr style=\"text-align: right;\">\n",
              "      <th></th>\n",
              "      <th>data</th>\n",
              "      <th>dataEquipe</th>\n",
              "      <th>empresario</th>\n",
              "      <th>nome</th>\n",
              "      <th>outros</th>\n",
              "      <th>posi</th>\n",
              "    </tr>\n",
              "  </thead>\n",
              "  <tbody>\n",
              "    <tr>\n",
              "      <th>48</th>\n",
              "      <td>13/04/1994</td>\n",
              "      <td>21/01/2019</td>\n",
              "      <td>Marcio Bittencourt Sports</td>\n",
              "      <td>None</td>\n",
              "      <td>None</td>\n",
              "      <td>Ataque - Segundo Avançado</td>\n",
              "    </tr>\n",
              "    <tr>\n",
              "      <th>50</th>\n",
              "      <td>31/01/1997</td>\n",
              "      <td>01/01/2017</td>\n",
              "      <td>Marcio Bittencourt Sports</td>\n",
              "      <td>Matheus Sousa Pereira</td>\n",
              "      <td>None</td>\n",
              "      <td>Médio - Médio Defensivo</td>\n",
              "    </tr>\n",
              "    <tr>\n",
              "      <th>60</th>\n",
              "      <td>29/05/1986</td>\n",
              "      <td>08/04/2019</td>\n",
              "      <td>Marcio Bittencourt Sports</td>\n",
              "      <td>Antônio de Moura Carvalho</td>\n",
              "      <td>None</td>\n",
              "      <td>Médio - Médio Ofensivo</td>\n",
              "    </tr>\n",
              "    <tr>\n",
              "      <th>93</th>\n",
              "      <td>23/05/1992</td>\n",
              "      <td>29/04/2019</td>\n",
              "      <td>Marcio Bittencourt Sports</td>\n",
              "      <td>None</td>\n",
              "      <td>None</td>\n",
              "      <td>Defesa - Lateral Direito</td>\n",
              "    </tr>\n",
              "    <tr>\n",
              "      <th>117</th>\n",
              "      <td>06/01/1993</td>\n",
              "      <td>01/01/2019</td>\n",
              "      <td>Marcio Bittencourt Sports</td>\n",
              "      <td>Isnairo Reis Silva Morais</td>\n",
              "      <td>None</td>\n",
              "      <td>Médio - Médio Ofensivo</td>\n",
              "    </tr>\n",
              "    <tr>\n",
              "      <th>118</th>\n",
              "      <td>22/05/1989</td>\n",
              "      <td>18/04/2019</td>\n",
              "      <td>Marcio Bittencourt Sports</td>\n",
              "      <td>Nataliel Costa da Silva</td>\n",
              "      <td>None</td>\n",
              "      <td>Médio - Médio Defensivo</td>\n",
              "    </tr>\n",
              "    <tr>\n",
              "      <th>139</th>\n",
              "      <td>17/05/1988</td>\n",
              "      <td>01/01/2018</td>\n",
              "      <td>Marcio Bittencourt Sports</td>\n",
              "      <td>Sandro Silva de Souza</td>\n",
              "      <td>None</td>\n",
              "      <td>Defesa - Defesa Central</td>\n",
              "    </tr>\n",
              "  </tbody>\n",
              "</table>\n",
              "</div>"
            ],
            "text/plain": [
              "           data  dataEquipe  ... outros                       posi\n",
              "48   13/04/1994  21/01/2019  ...  None   Ataque - Segundo Avançado\n",
              "50   31/01/1997  01/01/2017  ...  None   Médio - Médio Defensivo  \n",
              "60   29/05/1986  08/04/2019  ...  None   Médio - Médio Ofensivo   \n",
              "93   23/05/1992  29/04/2019  ...  None   Defesa - Lateral Direito \n",
              "117  06/01/1993  01/01/2019  ...  None   Médio - Médio Ofensivo   \n",
              "118  22/05/1989  18/04/2019  ...  None   Médio - Médio Defensivo  \n",
              "139  17/05/1988  01/01/2018  ...  None   Defesa - Defesa Central  \n",
              "\n",
              "[7 rows x 6 columns]"
            ]
          },
          "metadata": {
            "tags": []
          }
        },
        {
          "output_type": "display_data",
          "data": {
            "text/markdown": "\n\n\n### sem agente",
            "text/plain": [
              "<IPython.core.display.Markdown object>"
            ]
          },
          "metadata": {
            "tags": []
          }
        },
        {
          "output_type": "display_data",
          "data": {
            "text/html": [
              "<div>\n",
              "<style scoped>\n",
              "    .dataframe tbody tr th:only-of-type {\n",
              "        vertical-align: middle;\n",
              "    }\n",
              "\n",
              "    .dataframe tbody tr th {\n",
              "        vertical-align: top;\n",
              "    }\n",
              "\n",
              "    .dataframe thead th {\n",
              "        text-align: right;\n",
              "    }\n",
              "</style>\n",
              "<table border=\"1\" class=\"dataframe\">\n",
              "  <thead>\n",
              "    <tr style=\"text-align: right;\">\n",
              "      <th></th>\n",
              "      <th>data</th>\n",
              "      <th>dataEquipe</th>\n",
              "      <th>empresario</th>\n",
              "      <th>nome</th>\n",
              "      <th>outros</th>\n",
              "      <th>posi</th>\n",
              "    </tr>\n",
              "  </thead>\n",
              "  <tbody>\n",
              "    <tr>\n",
              "      <th>33</th>\n",
              "      <td>11/11/1983</td>\n",
              "      <td>16/08/2016</td>\n",
              "      <td>sem agente</td>\n",
              "      <td>Ebert William Amâncio</td>\n",
              "      <td>None</td>\n",
              "      <td>Defesa - Defesa Central</td>\n",
              "    </tr>\n",
              "    <tr>\n",
              "      <th>75</th>\n",
              "      <td>14/07/1986</td>\n",
              "      <td>12/12/2018</td>\n",
              "      <td>sem agente</td>\n",
              "      <td>Rafael Berger</td>\n",
              "      <td>None</td>\n",
              "      <td>Defesa - Defesa Central</td>\n",
              "    </tr>\n",
              "    <tr>\n",
              "      <th>81</th>\n",
              "      <td>18/11/1984</td>\n",
              "      <td>30/07/2018</td>\n",
              "      <td>sem agente</td>\n",
              "      <td>None</td>\n",
              "      <td>None</td>\n",
              "      <td>Defesa - Defesa Central</td>\n",
              "    </tr>\n",
              "    <tr>\n",
              "      <th>92</th>\n",
              "      <td>16/08/1985</td>\n",
              "      <td>12/02/2015</td>\n",
              "      <td>sem agente</td>\n",
              "      <td>Hélio Hermito Zampier Neto</td>\n",
              "      <td>None</td>\n",
              "      <td>Defesa - Defesa Central</td>\n",
              "    </tr>\n",
              "    <tr>\n",
              "      <th>94</th>\n",
              "      <td>09/03/1986</td>\n",
              "      <td>29/05/2019</td>\n",
              "      <td>sem agente</td>\n",
              "      <td>Fernando Camilo Farias</td>\n",
              "      <td>None</td>\n",
              "      <td>Médio - Médio Ofensivo</td>\n",
              "    </tr>\n",
              "    <tr>\n",
              "      <th>104</th>\n",
              "      <td>19/01/1990</td>\n",
              "      <td>01/01/2019</td>\n",
              "      <td>sem agente</td>\n",
              "      <td>None</td>\n",
              "      <td>None</td>\n",
              "      <td>Médio - Médio Direito</td>\n",
              "    </tr>\n",
              "    <tr>\n",
              "      <th>143</th>\n",
              "      <td>30/01/1986</td>\n",
              "      <td>22/03/2019</td>\n",
              "      <td>sem agente</td>\n",
              "      <td>Leonardo Gamalho de Souza</td>\n",
              "      <td>Grêmio Porto Alegre</td>\n",
              "      <td>Ataque - Ponta de Lança</td>\n",
              "    </tr>\n",
              "  </tbody>\n",
              "</table>\n",
              "</div>"
            ],
            "text/plain": [
              "           data  dataEquipe  ...               outros                     posi\n",
              "33   11/11/1983  16/08/2016  ...  None                 Defesa - Defesa Central\n",
              "75   14/07/1986  12/12/2018  ...  None                 Defesa - Defesa Central\n",
              "81   18/11/1984  30/07/2018  ...  None                 Defesa - Defesa Central\n",
              "92   16/08/1985  12/02/2015  ...  None                 Defesa - Defesa Central\n",
              "94   09/03/1986  29/05/2019  ...  None                 Médio - Médio Ofensivo \n",
              "104  19/01/1990  01/01/2019  ...  None                 Médio - Médio Direito  \n",
              "143  30/01/1986  22/03/2019  ...  Grêmio Porto Alegre  Ataque - Ponta de Lança\n",
              "\n",
              "[7 rows x 6 columns]"
            ]
          },
          "metadata": {
            "tags": []
          }
        },
        {
          "output_type": "display_data",
          "data": {
            "text/markdown": "\n\n\n### AGN Football",
            "text/plain": [
              "<IPython.core.display.Markdown object>"
            ]
          },
          "metadata": {
            "tags": []
          }
        },
        {
          "output_type": "display_data",
          "data": {
            "text/html": [
              "<div>\n",
              "<style scoped>\n",
              "    .dataframe tbody tr th:only-of-type {\n",
              "        vertical-align: middle;\n",
              "    }\n",
              "\n",
              "    .dataframe tbody tr th {\n",
              "        vertical-align: top;\n",
              "    }\n",
              "\n",
              "    .dataframe thead th {\n",
              "        text-align: right;\n",
              "    }\n",
              "</style>\n",
              "<table border=\"1\" class=\"dataframe\">\n",
              "  <thead>\n",
              "    <tr style=\"text-align: right;\">\n",
              "      <th></th>\n",
              "      <th>data</th>\n",
              "      <th>dataEquipe</th>\n",
              "      <th>empresario</th>\n",
              "      <th>nome</th>\n",
              "      <th>outros</th>\n",
              "      <th>posi</th>\n",
              "    </tr>\n",
              "  </thead>\n",
              "  <tbody>\n",
              "    <tr>\n",
              "      <th>21</th>\n",
              "      <td>02/01/1996</td>\n",
              "      <td>08/07/2019</td>\n",
              "      <td>AGN Football</td>\n",
              "      <td>None</td>\n",
              "      <td>None</td>\n",
              "      <td>Ataque - Extremo Direito</td>\n",
              "    </tr>\n",
              "    <tr>\n",
              "      <th>74</th>\n",
              "      <td>17/06/1998</td>\n",
              "      <td>03/01/2019</td>\n",
              "      <td>AGN Football</td>\n",
              "      <td>Guilherme Pinto Teixeira</td>\n",
              "      <td>None</td>\n",
              "      <td>Médio - Médio Ofensivo</td>\n",
              "    </tr>\n",
              "    <tr>\n",
              "      <th>77</th>\n",
              "      <td>20/08/1998</td>\n",
              "      <td>02/01/2019</td>\n",
              "      <td>AGN Football</td>\n",
              "      <td>Elias Miguel Trevizan Telles</td>\n",
              "      <td>None</td>\n",
              "      <td>Médio - Médio Defensivo</td>\n",
              "    </tr>\n",
              "    <tr>\n",
              "      <th>111</th>\n",
              "      <td>06/08/1992</td>\n",
              "      <td>21/01/2019</td>\n",
              "      <td>AGN Football</td>\n",
              "      <td>Augusto César dos Santos Moreira</td>\n",
              "      <td>None</td>\n",
              "      <td>Médio - Médio Centro</td>\n",
              "    </tr>\n",
              "  </tbody>\n",
              "</table>\n",
              "</div>"
            ],
            "text/plain": [
              "           data  dataEquipe  ... outros                      posi\n",
              "21   02/01/1996  08/07/2019  ...  None   Ataque - Extremo Direito\n",
              "74   17/06/1998  03/01/2019  ...  None   Médio - Médio Ofensivo  \n",
              "77   20/08/1998  02/01/2019  ...  None   Médio - Médio Defensivo \n",
              "111  06/08/1992  21/01/2019  ...  None   Médio - Médio Centro    \n",
              "\n",
              "[4 rows x 6 columns]"
            ]
          },
          "metadata": {
            "tags": []
          }
        },
        {
          "output_type": "display_data",
          "data": {
            "text/markdown": "\n\n\n### EUROPE SPORTS GROUP",
            "text/plain": [
              "<IPython.core.display.Markdown object>"
            ]
          },
          "metadata": {
            "tags": []
          }
        },
        {
          "output_type": "display_data",
          "data": {
            "text/html": [
              "<div>\n",
              "<style scoped>\n",
              "    .dataframe tbody tr th:only-of-type {\n",
              "        vertical-align: middle;\n",
              "    }\n",
              "\n",
              "    .dataframe tbody tr th {\n",
              "        vertical-align: top;\n",
              "    }\n",
              "\n",
              "    .dataframe thead th {\n",
              "        text-align: right;\n",
              "    }\n",
              "</style>\n",
              "<table border=\"1\" class=\"dataframe\">\n",
              "  <thead>\n",
              "    <tr style=\"text-align: right;\">\n",
              "      <th></th>\n",
              "      <th>data</th>\n",
              "      <th>dataEquipe</th>\n",
              "      <th>empresario</th>\n",
              "      <th>nome</th>\n",
              "      <th>outros</th>\n",
              "      <th>posi</th>\n",
              "    </tr>\n",
              "  </thead>\n",
              "  <tbody>\n",
              "    <tr>\n",
              "      <th>119</th>\n",
              "      <td>09/01/1997</td>\n",
              "      <td>10/01/2018</td>\n",
              "      <td>EUROPE SPORTS GROUP</td>\n",
              "      <td>Eduardo Jacinto de Biasi</td>\n",
              "      <td>Eduardo é o Irmão de Ezequiel (Esporte Clube Bahia).</td>\n",
              "      <td>Médio - Médio Centro</td>\n",
              "    </tr>\n",
              "    <tr>\n",
              "      <th>130</th>\n",
              "      <td>10/03/1997</td>\n",
              "      <td>01/11/2017</td>\n",
              "      <td>EUROPE SPORTS GROUP</td>\n",
              "      <td>Jean Mangabeira da Silva</td>\n",
              "      <td>Criciúma Esporte Clube</td>\n",
              "      <td>Médio - Médio Ofensivo</td>\n",
              "    </tr>\n",
              "    <tr>\n",
              "      <th>142</th>\n",
              "      <td>15/09/1996</td>\n",
              "      <td>01/01/2016</td>\n",
              "      <td>EUROPE SPORTS GROUP</td>\n",
              "      <td>Andrew Lucas Balbino Drummond</td>\n",
              "      <td>Criciúma Esporte Clube (2014-12/2015)</td>\n",
              "      <td>Ataque - Extremo Direito</td>\n",
              "    </tr>\n",
              "  </tbody>\n",
              "</table>\n",
              "</div>"
            ],
            "text/plain": [
              "           data  ...                      posi\n",
              "119  09/01/1997  ...  Médio - Médio Centro    \n",
              "130  10/03/1997  ...  Médio - Médio Ofensivo  \n",
              "142  15/09/1996  ...  Ataque - Extremo Direito\n",
              "\n",
              "[3 rows x 6 columns]"
            ]
          },
          "metadata": {
            "tags": []
          }
        },
        {
          "output_type": "display_data",
          "data": {
            "text/markdown": "\n\n\n### Elenko Sports Ltda.",
            "text/plain": [
              "<IPython.core.display.Markdown object>"
            ]
          },
          "metadata": {
            "tags": []
          }
        },
        {
          "output_type": "display_data",
          "data": {
            "text/html": [
              "<div>\n",
              "<style scoped>\n",
              "    .dataframe tbody tr th:only-of-type {\n",
              "        vertical-align: middle;\n",
              "    }\n",
              "\n",
              "    .dataframe tbody tr th {\n",
              "        vertical-align: top;\n",
              "    }\n",
              "\n",
              "    .dataframe thead th {\n",
              "        text-align: right;\n",
              "    }\n",
              "</style>\n",
              "<table border=\"1\" class=\"dataframe\">\n",
              "  <thead>\n",
              "    <tr style=\"text-align: right;\">\n",
              "      <th></th>\n",
              "      <th>data</th>\n",
              "      <th>dataEquipe</th>\n",
              "      <th>empresario</th>\n",
              "      <th>nome</th>\n",
              "      <th>outros</th>\n",
              "      <th>posi</th>\n",
              "    </tr>\n",
              "  </thead>\n",
              "  <tbody>\n",
              "    <tr>\n",
              "      <th>78</th>\n",
              "      <td>26/03/1987</td>\n",
              "      <td>09/07/2019</td>\n",
              "      <td>Elenko Sports Ltda.</td>\n",
              "      <td>Elisson Aparecido Rosa</td>\n",
              "      <td>None</td>\n",
              "      <td>Guarda-redes</td>\n",
              "    </tr>\n",
              "    <tr>\n",
              "      <th>87</th>\n",
              "      <td>03/03/1991</td>\n",
              "      <td>01/01/2017</td>\n",
              "      <td>Elenko Sports Ltda.</td>\n",
              "      <td>Moisés Ribeiro Santos</td>\n",
              "      <td>None</td>\n",
              "      <td>Médio - Médio Defensivo</td>\n",
              "    </tr>\n",
              "    <tr>\n",
              "      <th>157</th>\n",
              "      <td>09/04/1991</td>\n",
              "      <td>03/12/2018</td>\n",
              "      <td>Elenko Sports Ltda.</td>\n",
              "      <td>Robert Geannine de Souza Campos</td>\n",
              "      <td>None</td>\n",
              "      <td>Médio - Médio Ofensivo</td>\n",
              "    </tr>\n",
              "  </tbody>\n",
              "</table>\n",
              "</div>"
            ],
            "text/plain": [
              "           data  dataEquipe  ... outros                     posi\n",
              "78   26/03/1987  09/07/2019  ...  None   Guarda-redes           \n",
              "87   03/03/1991  01/01/2017  ...  None   Médio - Médio Defensivo\n",
              "157  09/04/1991  03/12/2018  ...  None   Médio - Médio Ofensivo \n",
              "\n",
              "[3 rows x 6 columns]"
            ]
          },
          "metadata": {
            "tags": []
          }
        },
        {
          "output_type": "display_data",
          "data": {
            "text/markdown": "\n\n\n### Amin Sakman",
            "text/plain": [
              "<IPython.core.display.Markdown object>"
            ]
          },
          "metadata": {
            "tags": []
          }
        },
        {
          "output_type": "display_data",
          "data": {
            "text/html": [
              "<div>\n",
              "<style scoped>\n",
              "    .dataframe tbody tr th:only-of-type {\n",
              "        vertical-align: middle;\n",
              "    }\n",
              "\n",
              "    .dataframe tbody tr th {\n",
              "        vertical-align: top;\n",
              "    }\n",
              "\n",
              "    .dataframe thead th {\n",
              "        text-align: right;\n",
              "    }\n",
              "</style>\n",
              "<table border=\"1\" class=\"dataframe\">\n",
              "  <thead>\n",
              "    <tr style=\"text-align: right;\">\n",
              "      <th></th>\n",
              "      <th>data</th>\n",
              "      <th>dataEquipe</th>\n",
              "      <th>empresario</th>\n",
              "      <th>nome</th>\n",
              "      <th>outros</th>\n",
              "      <th>posi</th>\n",
              "    </tr>\n",
              "  </thead>\n",
              "  <tbody>\n",
              "    <tr>\n",
              "      <th>16</th>\n",
              "      <td>10/06/1997</td>\n",
              "      <td>03/01/2019</td>\n",
              "      <td>Amin Sakman</td>\n",
              "      <td>Getulio Wandelly Silva Timóteo</td>\n",
              "      <td>None</td>\n",
              "      <td>Ataque - Ponta de Lança</td>\n",
              "    </tr>\n",
              "    <tr>\n",
              "      <th>28</th>\n",
              "      <td>21/04/2000</td>\n",
              "      <td>01/06/2017</td>\n",
              "      <td>Amin Sakman</td>\n",
              "      <td>Luan Pereira</td>\n",
              "      <td>None</td>\n",
              "      <td>Médio - Médio Centro</td>\n",
              "    </tr>\n",
              "  </tbody>\n",
              "</table>\n",
              "</div>"
            ],
            "text/plain": [
              "          data  dataEquipe  ... outros                     posi\n",
              "16  10/06/1997  03/01/2019  ...  None   Ataque - Ponta de Lança\n",
              "28  21/04/2000  01/06/2017  ...  None   Médio - Médio Centro   \n",
              "\n",
              "[2 rows x 6 columns]"
            ]
          },
          "metadata": {
            "tags": []
          }
        },
        {
          "output_type": "display_data",
          "data": {
            "text/markdown": "\n\n\n### Showball",
            "text/plain": [
              "<IPython.core.display.Markdown object>"
            ]
          },
          "metadata": {
            "tags": []
          }
        },
        {
          "output_type": "display_data",
          "data": {
            "text/html": [
              "<div>\n",
              "<style scoped>\n",
              "    .dataframe tbody tr th:only-of-type {\n",
              "        vertical-align: middle;\n",
              "    }\n",
              "\n",
              "    .dataframe tbody tr th {\n",
              "        vertical-align: top;\n",
              "    }\n",
              "\n",
              "    .dataframe thead th {\n",
              "        text-align: right;\n",
              "    }\n",
              "</style>\n",
              "<table border=\"1\" class=\"dataframe\">\n",
              "  <thead>\n",
              "    <tr style=\"text-align: right;\">\n",
              "      <th></th>\n",
              "      <th>data</th>\n",
              "      <th>dataEquipe</th>\n",
              "      <th>empresario</th>\n",
              "      <th>nome</th>\n",
              "      <th>outros</th>\n",
              "      <th>posi</th>\n",
              "    </tr>\n",
              "  </thead>\n",
              "  <tbody>\n",
              "    <tr>\n",
              "      <th>121</th>\n",
              "      <td>20/09/1999</td>\n",
              "      <td>-</td>\n",
              "      <td>Showball</td>\n",
              "      <td>Wagner Aparecido de Andrade Júnior</td>\n",
              "      <td>None</td>\n",
              "      <td>Guarda-redes</td>\n",
              "    </tr>\n",
              "    <tr>\n",
              "      <th>141</th>\n",
              "      <td>05/03/1987</td>\n",
              "      <td>01/01/2019</td>\n",
              "      <td>Showball</td>\n",
              "      <td>None</td>\n",
              "      <td>None</td>\n",
              "      <td>Guarda-redes</td>\n",
              "    </tr>\n",
              "  </tbody>\n",
              "</table>\n",
              "</div>"
            ],
            "text/plain": [
              "           data  dataEquipe  ... outros          posi\n",
              "121  20/09/1999   -          ...  None   Guarda-redes\n",
              "141  05/03/1987  01/01/2019  ...  None   Guarda-redes\n",
              "\n",
              "[2 rows x 6 columns]"
            ]
          },
          "metadata": {
            "tags": []
          }
        },
        {
          "output_type": "display_data",
          "data": {
            "text/markdown": "\n\n\n### GMRsports",
            "text/plain": [
              "<IPython.core.display.Markdown object>"
            ]
          },
          "metadata": {
            "tags": []
          }
        },
        {
          "output_type": "display_data",
          "data": {
            "text/html": [
              "<div>\n",
              "<style scoped>\n",
              "    .dataframe tbody tr th:only-of-type {\n",
              "        vertical-align: middle;\n",
              "    }\n",
              "\n",
              "    .dataframe tbody tr th {\n",
              "        vertical-align: top;\n",
              "    }\n",
              "\n",
              "    .dataframe thead th {\n",
              "        text-align: right;\n",
              "    }\n",
              "</style>\n",
              "<table border=\"1\" class=\"dataframe\">\n",
              "  <thead>\n",
              "    <tr style=\"text-align: right;\">\n",
              "      <th></th>\n",
              "      <th>data</th>\n",
              "      <th>dataEquipe</th>\n",
              "      <th>empresario</th>\n",
              "      <th>nome</th>\n",
              "      <th>outros</th>\n",
              "      <th>posi</th>\n",
              "    </tr>\n",
              "  </thead>\n",
              "  <tbody>\n",
              "    <tr>\n",
              "      <th>83</th>\n",
              "      <td>11/06/1984</td>\n",
              "      <td>05/01/2018</td>\n",
              "      <td>GMRsports</td>\n",
              "      <td>None</td>\n",
              "      <td>Mogi Mirim</td>\n",
              "      <td>Médio - Médio Defensivo</td>\n",
              "    </tr>\n",
              "    <tr>\n",
              "      <th>108</th>\n",
              "      <td>23/08/1989</td>\n",
              "      <td>01/01/2018</td>\n",
              "      <td>GMRsports</td>\n",
              "      <td>None</td>\n",
              "      <td>None</td>\n",
              "      <td>Médio - Médio Esquerdo</td>\n",
              "    </tr>\n",
              "  </tbody>\n",
              "</table>\n",
              "</div>"
            ],
            "text/plain": [
              "           data  dataEquipe  ...      outros                     posi\n",
              "83   11/06/1984  05/01/2018  ...  Mogi Mirim  Médio - Médio Defensivo\n",
              "108  23/08/1989  01/01/2018  ...  None        Médio - Médio Esquerdo \n",
              "\n",
              "[2 rows x 6 columns]"
            ]
          },
          "metadata": {
            "tags": []
          }
        }
      ]
    }
  ]
}